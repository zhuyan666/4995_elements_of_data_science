{
 "cells": [
  {
   "cell_type": "markdown",
   "metadata": {},
   "source": [
    "# Week 2 Quiz\n",
    "\n",
    "## Name - zl2776"
   ]
  },
  {
   "cell_type": "markdown",
   "metadata": {},
   "source": [
    "### Instructions\n",
    "\n",
    "Replace UNI in the notebook name with your UNI\n",
    "\n",
    "Replace Name - UNI in the first cell with your name and UNI\n",
    "\n",
    "Replace all '____' below using the instructions provided.\n",
    "\n",
    "When completed, \n",
    " - make sure you've replaced Name and UNI in the first cell and filename  (eg: Week_02_Quiz-brg2130)\n",
    " - Kernel->Restart & Run All to run all cells in order \n",
    " - use Print Preview, Print-> Save to pdf \n",
    " - and post pdf to GradeScope"
   ]
  },
  {
   "cell_type": "markdown",
   "metadata": {},
   "source": [
    "---"
   ]
  },
  {
   "cell_type": "markdown",
   "metadata": {},
   "source": [
    "## 1. Lists"
   ]
  },
  {
   "cell_type": "code",
   "execution_count": 1,
   "metadata": {},
   "outputs": [
    {
     "name": "stdout",
     "output_type": "stream",
     "text": [
      "red\n"
     ]
    }
   ],
   "source": [
    "# Create a list containing the strings 'blue','red','green'\n",
    "colors = ['blue','red','green']\n",
    "\n",
    "# Assert that value at index 0 of colors is equal to 'blue'\n",
    "assert colors[0] == 'blue'\n",
    "\n",
    "# Using list indexing, print out the value of colors at index 1\n",
    "# You should see the output \"red\" without quotes\n",
    "print(colors[1])"
   ]
  },
  {
   "cell_type": "markdown",
   "metadata": {},
   "source": [
    "## 2. Dicts"
   ]
  },
  {
   "cell_type": "code",
   "execution_count": 2,
   "metadata": {},
   "outputs": [
    {
     "name": "stdout",
     "output_type": "stream",
     "text": [
      "1\n"
     ]
    }
   ],
   "source": [
    "# Create a dictionary which maps the string keys 'zero','one','two'\n",
    "#    to the int values 0,1,2\n",
    "str_to_int = {'zero':0,'one':1,'two':2}\n",
    "\n",
    "# Assert that the value returned for key 'two' equals 2 in str_to_int\n",
    "assert str_to_int['two'] == 2\n",
    "\n",
    "# Using str_to_int, print out the value for the key 'one'\n",
    "# You should see the output 1\n",
    "print(str_to_int['one'])"
   ]
  },
  {
   "cell_type": "markdown",
   "metadata": {},
   "source": [
    "## 3. String Formatting And For Loops"
   ]
  },
  {
   "cell_type": "code",
   "execution_count": 5,
   "metadata": {},
   "outputs": [
    {
     "name": "stdout",
     "output_type": "stream",
     "text": [
      "the length of colors is 3\n",
      "the value at index 0 is zero\n",
      "the value at index 1 is one\n",
      "the value at index 2 is two\n"
     ]
    }
   ],
   "source": [
    "# Using the len function and f\"\" string formatting, print the number of elements in colors defined above.\n",
    "print(f\"the length of colors is {len(str_to_int)}\")\n",
    "\n",
    "# Using the enumerate function, the colors list defined above, and f\"\" string formatting\n",
    "#   for every index,value pair,\n",
    "#   print \"the value at index {index} is {value}\"\n",
    "#   Ex: \n",
    "#     the value at index 0 is blue\n",
    "#     the value at index 1 is red\n",
    "#     the value at index 2 is green\n",
    "for i,c in enumerate(str_to_int):\n",
    "    print(f\"the value at index {i} is {c}\")"
   ]
  },
  {
   "cell_type": "markdown",
   "metadata": {},
   "source": [
    "## 4. List Comprehension"
   ]
  },
  {
   "cell_type": "code",
   "execution_count": 7,
   "metadata": {},
   "outputs": [],
   "source": [
    "# Using a list comprehension and the len() function,\n",
    "#    create a list corresponding to the lengths of each of the strings in colors\n",
    "# Store the resulting list in variable color_lengths\n",
    "color_lengths = [len(s) for s in colors]\n",
    "\n",
    "# Assert that the first value in color_lengths is 4 (the length of 'blue')\n",
    "assert color_lengths[0] == 4"
   ]
  },
  {
   "cell_type": "markdown",
   "metadata": {},
   "source": [
    "## 5. Functions and Control Flow"
   ]
  },
  {
   "cell_type": "code",
   "execution_count": 8,
   "metadata": {},
   "outputs": [],
   "source": [
    "# Define a function called append_even_odd\n",
    "# It should expect to take in a string\n",
    "#    if the string is empty, return 'empty'\n",
    "#    else if the string has an even number of characters, return the string with '_even' added to the end \n",
    "#    else if the string has an odd number of characters, return the string with '_odd' added to the end\n",
    "# For example: 'blue' should become 'blue_even'\n",
    "def append_even_odd(s):\n",
    "    l = len(s)\n",
    "    if l == 0:\n",
    "        return 'empty'\n",
    "    elif l%2 == 0:\n",
    "        return s + '_even'\n",
    "    else:\n",
    "        return s + '_odd'\n",
    "\n",
    "\n",
    "assert append_even_odd('test') == 'test_even'\n",
    "assert append_even_odd('one') == 'one_odd'\n",
    "assert append_even_odd('') == 'empty'"
   ]
  },
  {
   "cell_type": "markdown",
   "metadata": {},
   "source": [
    "## 6. Sorting"
   ]
  },
  {
   "cell_type": "code",
   "execution_count": 10,
   "metadata": {},
   "outputs": [],
   "source": [
    "# Using sorted(), sort the list color_lengths created above, ascending in value (reverse=False)\n",
    "# Save as color_lengths_sorted\n",
    "color_lengths_sorted = sorted(color_lengths, reverse=True)\n",
    "\n",
    "# Assert that the last element of color_lengths_sorted is 3\n",
    "assert color_lengths_sorted[-1] == 3"
   ]
  },
  {
   "cell_type": "markdown",
   "metadata": {},
   "source": [
    "### For More Practice (not required):"
   ]
  },
  {
   "cell_type": "code",
   "execution_count": 14,
   "metadata": {},
   "outputs": [],
   "source": [
    "# Create a list of the key,value pairs in the str_to_int dictionary sorted by value, decending\n",
    "str_to_int_sorted = sorted(str_to_int.items(), key=lambda x: x[1], reverse=True)\n",
    "\n",
    "# assert that the first element of str_to_int_sorted is ('two',2)\n",
    "assert str_to_int_sorted[0] == ('two',2)"
   ]
  }
 ],
 "metadata": {
  "kernelspec": {
   "display_name": "eods-f20",
   "language": "python",
   "name": "eods-f20"
  },
  "language_info": {
   "codemirror_mode": {
    "name": "ipython",
    "version": 3
   },
   "file_extension": ".py",
   "mimetype": "text/x-python",
   "name": "python",
   "nbconvert_exporter": "python",
   "pygments_lexer": "ipython3",
   "version": "3.8.5"
  }
 },
 "nbformat": 4,
 "nbformat_minor": 2
}
